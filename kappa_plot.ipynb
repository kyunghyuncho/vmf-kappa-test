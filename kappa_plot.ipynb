{
 "cells": [
  {
   "cell_type": "code",
   "execution_count": 1,
   "metadata": {},
   "outputs": [],
   "source": [
    "%matplotlib widget"
   ]
  },
  {
   "cell_type": "code",
   "execution_count": 6,
   "metadata": {},
   "outputs": [],
   "source": [
    "import numpy\n",
    "import glob\n",
    "from collections import OrderedDict"
   ]
  },
  {
   "cell_type": "code",
   "execution_count": 16,
   "metadata": {},
   "outputs": [],
   "source": [
    "from matplotlib import pyplot as plot"
   ]
  },
  {
   "cell_type": "code",
   "execution_count": 4,
   "metadata": {},
   "outputs": [],
   "source": [
    "files = glob.glob('./samples/*txt')"
   ]
  },
  {
   "cell_type": "code",
   "execution_count": 9,
   "metadata": {},
   "outputs": [
    {
     "data": {
      "text/plain": [
       "'./samples/samples_80.0_10_20.txt'"
      ]
     },
     "execution_count": 9,
     "metadata": {},
     "output_type": "execute_result"
    }
   ],
   "source": [
    "files[0]"
   ]
  },
  {
   "cell_type": "code",
   "execution_count": 65,
   "metadata": {},
   "outputs": [],
   "source": [
    "kappa_est = OrderedDict()"
   ]
  },
  {
   "cell_type": "code",
   "execution_count": 66,
   "metadata": {},
   "outputs": [],
   "source": [
    "def kappa_hat(samples):\n",
    "    num = samples.shape[0]\n",
    "    dim = samples.shape[1]\n",
    "    r_bar = numpy.sqrt((samples.sum(0) ** 2).sum()) / num\n",
    "    return r_bar * (dim - r_bar ** 2) / (1 - r_bar ** 2)"
   ]
  },
  {
   "cell_type": "code",
   "execution_count": 67,
   "metadata": {},
   "outputs": [],
   "source": [
    "for ff in files:\n",
    "    ss = numpy.loadtxt(ff)\n",
    "    cols = \"\".join(ff.split('/')[-1].split('.')[:-1]).split('_')\n",
    "    kappa = cols[1]\n",
    "    dim = cols[2]\n",
    "    n_samples = cols[3]\n",
    "    \n",
    "    if dim not in kappa_est:\n",
    "        kappa_est[dim] = OrderedDict()\n",
    "    if n_samples not in kappa_est[dim]:\n",
    "        kappa_est[dim][n_samples] = OrderedDict()\n",
    "    kappa_est[dim][n_samples][kappa] = kappa_hat(ss)"
   ]
  },
  {
   "cell_type": "code",
   "execution_count": 74,
   "metadata": {},
   "outputs": [
    {
     "data": {
      "application/vnd.jupyter.widget-view+json": {
       "model_id": "bcdb1d5e526745a99bdaf6cbd558bbbc",
       "version_major": 2,
       "version_minor": 0
      },
      "text/plain": [
       "FigureCanvasNbAgg()"
      ]
     },
     "metadata": {},
     "output_type": "display_data"
    },
    {
     "name": "stderr",
     "output_type": "stream",
     "text": [
      "/Users/kyunghyuncho/anaconda2/envs/py36/lib/python3.6/site-packages/matplotlib/cbook/deprecation.py:107: MatplotlibDeprecationWarning: Passing one of 'on', 'true', 'off', 'false' as a boolean is deprecated; use an actual boolean (True/False) instead.\n",
      "  warnings.warn(message, mplDeprecation, stacklevel=1)\n"
     ]
    }
   ],
   "source": [
    "plot.figure()\n",
    "\n",
    "target_dim = '10'\n",
    "\n",
    "kappa_plots = kappa_est[target_dim]\n",
    "\n",
    "ns = kappa_plots.keys()\n",
    "\n",
    "for ni in ns:\n",
    "    true_kappa = numpy.array([float(v) for v in list(kappa_plots[ni].keys())])\n",
    "    est_kappa = numpy.array(list(kappa_plots[ni].values()))\n",
    "\n",
    "    tidx = numpy.argsort(true_kappa)\n",
    "    plot.plot(true_kappa[tidx], est_kappa[tidx], 'x')\n",
    "\n",
    "plot.grid('on')\n",
    "plot.legend(ns)\n",
    "plot.ylim(plot.xlim())\n",
    "plot.xlabel('True')\n",
    "plot.ylabel('Estimated')\n",
    "\n",
    "plot.show()"
   ]
  },
  {
   "cell_type": "code",
   "execution_count": 69,
   "metadata": {},
   "outputs": [
    {
     "data": {
      "text/plain": [
       "array(['100', '1600', '200', '400', '800'], dtype='<U4')"
      ]
     },
     "execution_count": 69,
     "metadata": {},
     "output_type": "execute_result"
    }
   ],
   "source": [
    "true_kappa[tidx]"
   ]
  },
  {
   "cell_type": "code",
   "execution_count": 56,
   "metadata": {},
   "outputs": [
    {
     "data": {
      "text/plain": [
       "array([-841.53724021, -977.01191823, -188.40337789,  -84.94181566,\n",
       "       -732.89275825])"
      ]
     },
     "execution_count": 56,
     "metadata": {},
     "output_type": "execute_result"
    }
   ],
   "source": [
    "est_kappa"
   ]
  },
  {
   "cell_type": "code",
   "execution_count": 61,
   "metadata": {},
   "outputs": [
    {
     "name": "stdout",
     "output_type": "stream",
     "text": [
      "1.183881076257434\n"
     ]
    }
   ],
   "source": [
    "print((ss.sum(0) ** 2).sum()/ss.shape[0])"
   ]
  },
  {
   "cell_type": "code",
   "execution_count": 62,
   "metadata": {},
   "outputs": [
    {
     "name": "stdout",
     "output_type": "stream",
     "text": [
      "250\n"
     ]
    }
   ],
   "source": [
    "print(ss.shape[1])"
   ]
  },
  {
   "cell_type": "code",
   "execution_count": null,
   "metadata": {},
   "outputs": [],
   "source": []
  }
 ],
 "metadata": {
  "kernelspec": {
   "display_name": "Python 3",
   "language": "python",
   "name": "python3"
  },
  "language_info": {
   "codemirror_mode": {
    "name": "ipython",
    "version": 3
   },
   "file_extension": ".py",
   "mimetype": "text/x-python",
   "name": "python",
   "nbconvert_exporter": "python",
   "pygments_lexer": "ipython3",
   "version": "3.6.6"
  }
 },
 "nbformat": 4,
 "nbformat_minor": 2
}
